{
 "cells": [
  {
   "cell_type": "code",
   "execution_count": 118,
   "metadata": {},
   "outputs": [],
   "source": [
    "# import the packages\n",
    "import pandas as pd\n",
    "import numpy as np\n",
    "from pydbgen import pydbgen"
   ]
  },
  {
   "cell_type": "code",
   "execution_count": 12,
   "metadata": {},
   "outputs": [],
   "source": [
    "# instanciate the faker\n",
    "faker = pydbgen.pydb()"
   ]
  },
  {
   "cell_type": "markdown",
   "metadata": {},
   "source": [
    "## Create the functions"
   ]
  },
  {
   "cell_type": "code",
   "execution_count": 192,
   "metadata": {},
   "outputs": [],
   "source": [
    "def genCreditScore(size = 1, m = 690, std = 40):\n",
    "    arr = np.random.normal(m, std, size).astype(int)                   # generate random integers\n",
    "    arr = np.clip(arr, 300, 850)                                       # clip respecting boundaries\n",
    "    return (arr)\n",
    "\n",
    "def genBalance(size = 1, l = 2, factor = 1000):\n",
    "    arr = np.random.poisson(l, size)                                   # generate numbers from a poisson distribution\n",
    "    arr = arr * np.random.uniform(low = 0.0, high = 1.0, size = size)  # add some noise\n",
    "    arr = arr * factor                                                 # increase the scale by a factor\n",
    "    arr = np.around(arr, 2)                                            # round it to 2 decimal places\n",
    "    return (arr)\n",
    "\n",
    "def genEducation(size = 1, levels = ['High school', 'Bachelors', 'Masters', 'PhD'], prob = [0.45, 0.35, 0.18, 0.02]):\n",
    "    arr = np.random.choice(levels, size = size, p = prob)              # decide levels based on input probabilities\n",
    "    return (arr)\n",
    "\n",
    "def genDateofBirth(size = 1, m = 50, std = 20):\n",
    "    arr = np.random.normal(m, std, size).astype(int)                   # generate random integers of mean m and std spec\n",
    "    arr = np.clip(arr, 20, 90)                                         # clip respecting boundaries\n",
    "    arr = np.datetime64('today') - arr * 365                           # generate the arrays of past dates\n",
    "    return (arr)\n",
    "\n",
    "def genName(size = 1):\n",
    "    return (np.array([faker.fake.name() for i in range(size)]))        # return an array of the specified size of names\n",
    "\n",
    "def genEmail(size = 1):\n",
    "    return (np.array([faker.fake.email() for i in range(size)]))       # return an array of the specified size of emails\n",
    "\n",
    "def genAddress(size = 1):\n",
    "    return (np.array([faker.fake.address() for i in range(size)]))     # return an array of the specified size of addresses\n",
    "\n",
    "def genCompany(size = 1):\n",
    "    return (np.array([faker.fake.company() for i in range(size)]))     # return an array of the specified size of companies\n",
    "\n",
    "def genPhone(size = 1):\n",
    "    return (np.array([faker.simple_ph_num() for i in range(size)]))    # return an array of the specified size of phones"
   ]
  },
  {
   "cell_type": "code",
   "execution_count": 193,
   "metadata": {},
   "outputs": [],
   "source": [
    "def genDataset(size = 10000):\n",
    "    data = {'Name': genName(size),\n",
    "            'DateofBirth': genDateofBirth(size),\n",
    "            'Email': genEmail(size),\n",
    "            'Phone': genPhone(size),\n",
    "            'Address': genAddress(size),\n",
    "            'Company': genCompany(size),\n",
    "            'Education': genEducation(size),\n",
    "            'Balance': genBalance(size),\n",
    "            'CreditScore': genCreditScore(size)}\n",
    "    return (pd.DataFrame(data))"
   ]
  },
  {
   "cell_type": "markdown",
   "metadata": {},
   "source": [
    "## Call the functions"
   ]
  },
  {
   "cell_type": "code",
   "execution_count": 194,
   "metadata": {},
   "outputs": [],
   "source": [
    "# generate the fake data and save the csv and excel files\n",
    "df = genDataset()\n",
    "df.to_csv('dataset.csv', index = False)\n",
    "df.to_excel('dataset.xlsx', index = False)"
   ]
  },
  {
   "cell_type": "markdown",
   "metadata": {},
   "source": [
    "## Check the distributions"
   ]
  },
  {
   "cell_type": "code",
   "execution_count": 180,
   "metadata": {},
   "outputs": [],
   "source": [
    "import matplotlib.pyplot as plt"
   ]
  },
  {
   "cell_type": "code",
   "execution_count": 195,
   "metadata": {},
   "outputs": [
    {
     "data": {
      "image/png": "[encoded data removed]",
      "text/plain": [
       "<Figure size 432x288 with 1 Axes>"
      ]
     },
     "metadata": {
      "needs_background": "light"
     },
     "output_type": "display_data"
    }
   ],
   "source": [
    "# plt the distribution of Credit Score\n",
    "plt.hist(df.CreditScore)\n",
    "plt.title('Distribution of Credit Score')\n",
    "plt.show()"
   ]
  },
  {
   "cell_type": "code",
   "execution_count": 199,
   "metadata": {},
   "outputs": [
    {
     "data": {
      "image/png": "[encoded data removed]",
      "text/plain": [
       "<Figure size 432x288 with 1 Axes>"
      ]
     },
     "metadata": {
      "needs_background": "light"
     },
     "output_type": "display_data"
    }
   ],
   "source": [
    "# plt the distribution of Date of Birth\n",
    "plt.hist(df.DateofBirth)\n",
    "plt.title('Distribution of Date of Birth')\n",
    "plt.show()"
   ]
  },
  {
   "cell_type": "code",
   "execution_count": 206,
   "metadata": {},
   "outputs": [
    {
     "data": {
      "text/plain": [
       "array([4445, 3559, 1791,  205], dtype=int64)"
      ]
     },
     "execution_count": 206,
     "metadata": {},
     "output_type": "execute_result"
    }
   ],
   "source": [
    "df.Education.value_counts().values"
   ]
  },
  {
   "cell_type": "code",
   "execution_count": 209,
   "metadata": {},
   "outputs": [
    {
     "data": {
      "image/png": "[encoded data removed]",
      "text/plain": [
       "<Figure size 432x288 with 1 Axes>"
      ]
     },
     "metadata": {
      "needs_background": "light"
     },
     "output_type": "display_data"
    }
   ],
   "source": [
    "# plt the distribution of Education\n",
    "plt.bar(df.Education.value_counts().index, df.Education.value_counts().values)\n",
    "plt.xticks([0,1,2,3], df.Education.value_counts().index)\n",
    "plt.title('Distribution of Education')\n",
    "plt.show()"
   ]
  },
  {
   "cell_type": "code",
   "execution_count": 198,
   "metadata": {},
   "outputs": [
    {
     "data": {
      "image/png": "[encoded data removed]",
      "text/plain": [
       "<Figure size 432x288 with 1 Axes>"
      ]
     },
     "metadata": {
      "needs_background": "light"
     },
     "output_type": "display_data"
    }
   ],
   "source": [
    "# plt the distribution of Balance\n",
    "plt.hist(df.Balance)\n",
    "plt.title('Distribution of Balance')\n",
    "plt.show()"
   ]
  },
  {
   "cell_type": "code",
   "execution_count": 211,
   "metadata": {},
   "outputs": [
    {
     "data": {
      "text/html": [
       "<div>\n",
       "<style scoped>\n",
       "    .dataframe tbody tr th:only-of-type {\n",
       "        vertical-align: middle;\n",
       "    }\n",
       "\n",
       "    .dataframe tbody tr th {\n",
       "        vertical-align: top;\n",
       "    }\n",
       "\n",
       "    .dataframe thead th {\n",
       "        text-align: right;\n",
       "    }\n",
       "</style>\n",
       "<table border=\"1\" class=\"dataframe\">\n",
       "  <thead>\n",
       "    <tr style=\"text-align: right;\">\n",
       "      <th></th>\n",
       "      <th>Name</th>\n",
       "      <th>DateofBirth</th>\n",
       "      <th>Email</th>\n",
       "      <th>Phone</th>\n",
       "      <th>Address</th>\n",
       "      <th>Company</th>\n",
       "      <th>Education</th>\n",
       "      <th>Balance</th>\n",
       "      <th>CreditScore</th>\n",
       "    </tr>\n",
       "  </thead>\n",
       "  <tbody>\n",
       "    <tr>\n",
       "      <th>0</th>\n",
       "      <td>Alicia Romero</td>\n",
       "      <td>1969-05-02</td>\n",
       "      <td>brandon96@vargas.com</td>\n",
       "      <td>455-902-5397</td>\n",
       "      <td>99437 Nathan Streets\\nMichaelview, MO 69640</td>\n",
       "      <td>Mendoza Inc</td>\n",
       "      <td>Bachelors</td>\n",
       "      <td>2686.27</td>\n",
       "      <td>676</td>\n",
       "    </tr>\n",
       "    <tr>\n",
       "      <th>1</th>\n",
       "      <td>Erik Lopez</td>\n",
       "      <td>1964-05-03</td>\n",
       "      <td>fitzpatrickphillip@weber.net</td>\n",
       "      <td>865-474-4229</td>\n",
       "      <td>94428 Daniel Keys\\nEast Anthony, SC 88308</td>\n",
       "      <td>Butler Inc</td>\n",
       "      <td>High school</td>\n",
       "      <td>512.10</td>\n",
       "      <td>722</td>\n",
       "    </tr>\n",
       "    <tr>\n",
       "      <th>2</th>\n",
       "      <td>Katherine Powell</td>\n",
       "      <td>1988-04-27</td>\n",
       "      <td>irwinlauren@young-young.com</td>\n",
       "      <td>592-740-6717</td>\n",
       "      <td>53315 Leon Landing\\nKaufmanland, MD 50636</td>\n",
       "      <td>Thomas, Horne and Rodriguez</td>\n",
       "      <td>Bachelors</td>\n",
       "      <td>1063.04</td>\n",
       "      <td>732</td>\n",
       "    </tr>\n",
       "    <tr>\n",
       "      <th>3</th>\n",
       "      <td>Kristina Perry</td>\n",
       "      <td>1993-04-26</td>\n",
       "      <td>pattondaniel@gmail.com</td>\n",
       "      <td>132-598-6520</td>\n",
       "      <td>21069 William Fort\\nSarahville, MD 73910</td>\n",
       "      <td>Riley-Dawson</td>\n",
       "      <td>High school</td>\n",
       "      <td>675.90</td>\n",
       "      <td>724</td>\n",
       "    </tr>\n",
       "    <tr>\n",
       "      <th>4</th>\n",
       "      <td>Danielle Lee</td>\n",
       "      <td>1972-05-01</td>\n",
       "      <td>hillstacey@sanchez.com</td>\n",
       "      <td>820-517-1780</td>\n",
       "      <td>300 Kimberly Forge\\nLake Barbaraside, OR 81246</td>\n",
       "      <td>Smith Inc</td>\n",
       "      <td>Masters</td>\n",
       "      <td>0.00</td>\n",
       "      <td>698</td>\n",
       "    </tr>\n",
       "    <tr>\n",
       "      <th>5</th>\n",
       "      <td>Mrs. Holly Salazar MD</td>\n",
       "      <td>1956-05-05</td>\n",
       "      <td>sbaker@hotmail.com</td>\n",
       "      <td>494-212-2176</td>\n",
       "      <td>Unit 8414 Box 6849\\nDPO AE 18301</td>\n",
       "      <td>Mason, Barber and Martin</td>\n",
       "      <td>High school</td>\n",
       "      <td>2411.27</td>\n",
       "      <td>679</td>\n",
       "    </tr>\n",
       "    <tr>\n",
       "      <th>6</th>\n",
       "      <td>Benjamin Patel</td>\n",
       "      <td>1950-05-07</td>\n",
       "      <td>blackjames@hernandez.info</td>\n",
       "      <td>338-485-1765</td>\n",
       "      <td>299 Andrew Turnpike Suite 798\\nRothmouth, WI 3...</td>\n",
       "      <td>Spencer-Barber</td>\n",
       "      <td>Masters</td>\n",
       "      <td>208.08</td>\n",
       "      <td>662</td>\n",
       "    </tr>\n",
       "    <tr>\n",
       "      <th>7</th>\n",
       "      <td>Kathy Sweeney</td>\n",
       "      <td>1980-04-29</td>\n",
       "      <td>pamelaluna@yahoo.com</td>\n",
       "      <td>225-585-1660</td>\n",
       "      <td>USCGC Patterson\\nFPO AE 04661</td>\n",
       "      <td>Ball Inc</td>\n",
       "      <td>Bachelors</td>\n",
       "      <td>0.00</td>\n",
       "      <td>716</td>\n",
       "    </tr>\n",
       "    <tr>\n",
       "      <th>8</th>\n",
       "      <td>Robin White</td>\n",
       "      <td>1987-04-28</td>\n",
       "      <td>qharvey@yahoo.com</td>\n",
       "      <td>188-014-2283</td>\n",
       "      <td>61620 Nelson Lake Suite 925\\nNorth William, MO...</td>\n",
       "      <td>Hill Ltd</td>\n",
       "      <td>Masters</td>\n",
       "      <td>735.61</td>\n",
       "      <td>655</td>\n",
       "    </tr>\n",
       "    <tr>\n",
       "      <th>9</th>\n",
       "      <td>Peter Cooper MD</td>\n",
       "      <td>1949-05-07</td>\n",
       "      <td>christopher71@wilson.com</td>\n",
       "      <td>780-802-8317</td>\n",
       "      <td>28371 Kyle Lock Apt. 609\\nNicoleland, SD 93746</td>\n",
       "      <td>Cooper-Garcia</td>\n",
       "      <td>Masters</td>\n",
       "      <td>0.00</td>\n",
       "      <td>769</td>\n",
       "    </tr>\n",
       "  </tbody>\n",
       "</table>\n",
       "</div>"
      ],
      "text/plain": [
       "                    Name DateofBirth                         Email  \\\n",
       "0          Alicia Romero  1969-05-02          brandon96@vargas.com   \n",
       "1             Erik Lopez  1964-05-03  fitzpatrickphillip@weber.net   \n",
       "2       Katherine Powell  1988-04-27   irwinlauren@young-young.com   \n",
       "3         Kristina Perry  1993-04-26        pattondaniel@gmail.com   \n",
       "4           Danielle Lee  1972-05-01        hillstacey@sanchez.com   \n",
       "5  Mrs. Holly Salazar MD  1956-05-05            sbaker@hotmail.com   \n",
       "6         Benjamin Patel  1950-05-07     blackjames@hernandez.info   \n",
       "7          Kathy Sweeney  1980-04-29          pamelaluna@yahoo.com   \n",
       "8            Robin White  1987-04-28             qharvey@yahoo.com   \n",
       "9        Peter Cooper MD  1949-05-07      christopher71@wilson.com   \n",
       "\n",
       "          Phone                                            Address  \\\n",
       "0  455-902-5397        99437 Nathan Streets\\nMichaelview, MO 69640   \n",
       "1  865-474-4229          94428 Daniel Keys\\nEast Anthony, SC 88308   \n",
       "2  592-740-6717          53315 Leon Landing\\nKaufmanland, MD 50636   \n",
       "3  132-598-6520           21069 William Fort\\nSarahville, MD 73910   \n",
       "4  820-517-1780     300 Kimberly Forge\\nLake Barbaraside, OR 81246   \n",
       "5  494-212-2176                   Unit 8414 Box 6849\\nDPO AE 18301   \n",
       "6  338-485-1765  299 Andrew Turnpike Suite 798\\nRothmouth, WI 3...   \n",
       "7  225-585-1660                      USCGC Patterson\\nFPO AE 04661   \n",
       "8  188-014-2283  61620 Nelson Lake Suite 925\\nNorth William, MO...   \n",
       "9  780-802-8317     28371 Kyle Lock Apt. 609\\nNicoleland, SD 93746   \n",
       "\n",
       "                       Company    Education  Balance  CreditScore  \n",
       "0                  Mendoza Inc    Bachelors  2686.27          676  \n",
       "1                   Butler Inc  High school   512.10          722  \n",
       "2  Thomas, Horne and Rodriguez    Bachelors  1063.04          732  \n",
       "3                 Riley-Dawson  High school   675.90          724  \n",
       "4                    Smith Inc      Masters     0.00          698  \n",
       "5     Mason, Barber and Martin  High school  2411.27          679  \n",
       "6               Spencer-Barber      Masters   208.08          662  \n",
       "7                     Ball Inc    Bachelors     0.00          716  \n",
       "8                     Hill Ltd      Masters   735.61          655  \n",
       "9                Cooper-Garcia      Masters     0.00          769  "
      ]
     },
     "execution_count": 211,
     "metadata": {},
     "output_type": "execute_result"
    }
   ],
   "source": [
    "df.head(10)"
   ]
  },
  {
   "cell_type": "code",
   "execution_count": null,
   "metadata": {},
   "outputs": [],
   "source": []
  }
 ],
 "metadata": {
  "kernelspec": {
   "display_name": "Python 3",
   "language": "python",
   "name": "python3"
  },
  "language_info": {
   "codemirror_mode": {
    "name": "ipython",
    "version": 3
   },
   "file_extension": ".py",
   "mimetype": "text/x-python",
   "name": "python",
   "nbconvert_exporter": "python",
   "pygments_lexer": "ipython3",
   "version": "3.7.3"
  }
 },
 "nbformat": 4,
 "nbformat_minor": 2
}
